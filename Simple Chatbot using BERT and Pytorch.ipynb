{
 "cells": [
  {
   "cell_type": "code",
   "execution_count": 1,
   "metadata": {},
   "outputs": [
    {
     "name": "stdout",
     "output_type": "stream",
     "text": [
      "Collecting transformers==3\n",
      "  Using cached transformers-3.0.0-py3-none-any.whl (754 kB)\n",
      "Collecting sentencepiece\n",
      "  Using cached sentencepiece-0.1.96-cp37-cp37m-win_amd64.whl (1.1 MB)\n",
      "Collecting filelock\n",
      "  Using cached filelock-3.4.2-py3-none-any.whl (9.9 kB)\n",
      "Collecting sacremoses\n",
      "  Using cached sacremoses-0.0.47-py2.py3-none-any.whl (895 kB)\n",
      "Collecting packaging\n",
      "  Using cached packaging-21.3-py3-none-any.whl (40 kB)\n",
      "Collecting tqdm>=4.27\n",
      "  Using cached tqdm-4.62.3-py2.py3-none-any.whl (76 kB)\n",
      "Collecting requests\n",
      "  Downloading requests-2.27.1-py2.py3-none-any.whl (63 kB)\n",
      "Requirement already satisfied: numpy in c:\\users\\sohay\\onedrive\\desktop\\bert\\bertenv\\lib\\site-packages (from transformers==3) (1.21.5)\n",
      "Collecting regex!=2019.12.17\n",
      "  Using cached regex-2021.11.10-cp37-cp37m-win_amd64.whl (272 kB)\n",
      "Collecting tokenizers==0.8.0-rc4\n",
      "  Using cached tokenizers-0.8.0rc4-cp37-cp37m-win_amd64.whl (1.9 MB)\n",
      "Requirement already satisfied: colorama in c:\\users\\sohay\\onedrive\\desktop\\bert\\bertenv\\lib\\site-packages (from tqdm>=4.27->transformers==3) (0.4.4)\n",
      "Collecting pyparsing!=3.0.5,>=2.0.2\n",
      "  Using cached pyparsing-3.0.6-py3-none-any.whl (97 kB)\n",
      "Collecting certifi>=2017.4.17\n",
      "  Using cached certifi-2021.10.8-py2.py3-none-any.whl (149 kB)\n",
      "Collecting charset-normalizer~=2.0.0\n",
      "  Downloading charset_normalizer-2.0.10-py3-none-any.whl (39 kB)\n",
      "Collecting urllib3<1.27,>=1.21.1\n",
      "  Downloading urllib3-1.26.8-py2.py3-none-any.whl (138 kB)\n",
      "Collecting idna<4,>=2.5\n",
      "  Using cached idna-3.3-py3-none-any.whl (61 kB)\n",
      "Requirement already satisfied: six in c:\\users\\sohay\\onedrive\\desktop\\bert\\bertenv\\lib\\site-packages (from sacremoses->transformers==3) (1.16.0)\n",
      "Collecting click\n",
      "  Using cached click-8.0.3-py3-none-any.whl (97 kB)\n",
      "Collecting joblib\n",
      "  Using cached joblib-1.1.0-py2.py3-none-any.whl (306 kB)\n",
      "Collecting importlib-metadata\n",
      "  Using cached importlib_metadata-4.10.0-py3-none-any.whl (17 kB)\n",
      "Collecting zipp>=0.5\n",
      "  Downloading zipp-3.7.0-py3-none-any.whl (5.3 kB)\n",
      "Requirement already satisfied: typing-extensions>=3.6.4 in c:\\users\\sohay\\onedrive\\desktop\\bert\\bertenv\\lib\\site-packages (from importlib-metadata->click->sacremoses->transformers==3) (4.0.1)\n",
      "Installing collected packages: zipp, importlib-metadata, urllib3, tqdm, regex, pyparsing, joblib, idna, click, charset-normalizer, certifi, tokenizers, sentencepiece, sacremoses, requests, packaging, filelock, transformers\n",
      "Successfully installed certifi-2021.10.8 charset-normalizer-2.0.10 click-8.0.3 filelock-3.4.2 idna-3.3 importlib-metadata-4.10.0 joblib-1.1.0 packaging-21.3 pyparsing-3.0.6 regex-2021.11.10 requests-2.27.1 sacremoses-0.0.47 sentencepiece-0.1.96 tokenizers-0.8.0rc4 tqdm-4.62.3 transformers-3.0.0 urllib3-1.26.8 zipp-3.7.0\n",
      "Note: you may need to restart the kernel to use updated packages.\n",
      "Collecting torchinfo\n",
      "  Using cached torchinfo-1.6.2-py3-none-any.whl (20 kB)\n",
      "Installing collected packages: torchinfo\n",
      "Successfully installed torchinfo-1.6.2\n",
      "Note: you may need to restart the kernel to use updated packages.\n"
     ]
    }
   ],
   "source": [
    "%pip install transformers==3\n",
    "%pip install torchinfo"
   ]
  },
  {
   "cell_type": "code",
   "execution_count": 3,
   "metadata": {},
   "outputs": [],
   "source": [
    "import numpy as np\n",
    "import pandas as pd\n",
    "import re\n",
    "import torch\n",
    "import random\n",
    "import torch.nn as nn\n",
    "import transformers\n",
    "import matplotlib.pyplot as plt"
   ]
  },
  {
   "cell_type": "code",
   "execution_count": 4,
   "metadata": {},
   "outputs": [],
   "source": [
    "device = torch.device(\"cuda\")"
   ]
  },
  {
   "cell_type": "code",
   "execution_count": null,
   "metadata": {},
   "outputs": [],
   "source": [
    "df = pd.read_excel(“/content/drive/MyDrive/Datasets/chitchat.xlsx”)\n",
    "df.head()"
   ]
  },
  {
   "cell_type": "markdown",
   "metadata": {},
   "source": [
    "df[\"label\"].value_counts()"
   ]
  }
 ],
 "metadata": {
  "interpreter": {
   "hash": "9d98c3da6b63db9caa405abd9ce157f239eef7ce63b068995ad47a04a5a2ea27"
  },
  "kernelspec": {
   "display_name": "Python 3.7.0 64-bit ('venv': venv)",
   "language": "python",
   "name": "python3"
  },
  "language_info": {
   "codemirror_mode": {
    "name": "ipython",
    "version": 3
   },
   "file_extension": ".py",
   "mimetype": "text/x-python",
   "name": "python",
   "nbconvert_exporter": "python",
   "pygments_lexer": "ipython3",
   "version": "3.7.0"
  },
  "orig_nbformat": 4
 },
 "nbformat": 4,
 "nbformat_minor": 2
}
